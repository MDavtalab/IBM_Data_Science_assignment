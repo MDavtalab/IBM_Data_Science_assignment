{
  "nbformat": 4,
  "nbformat_minor": 0,
  "metadata": {
    "colab": {
      "provenance": [],
      "authorship_tag": "ABX9TyPcIKNmwrYcwmms9VCTebNi",
      "include_colab_link": true
    },
    "kernelspec": {
      "name": "python3",
      "display_name": "Python 3"
    },
    "language_info": {
      "name": "python"
    }
  },
  "cells": [
    {
      "cell_type": "markdown",
      "metadata": {
        "id": "view-in-github",
        "colab_type": "text"
      },
      "source": [
        "<a href=\"https://colab.research.google.com/github/MDavtalab/IBM_Data_Science_assignment/blob/main/DataScienceEcosystem.ipynb\" target=\"_parent\"><img src=\"https://colab.research.google.com/assets/colab-badge.svg\" alt=\"Open In Colab\"/></a>"
      ]
    },
    {
      "cell_type": "markdown",
      "source": [
        "*Exercise 2: Create markdown cell with title of the notebook*\n",
        "\n",
        "# Data Science Tools and Ecosystem"
      ],
      "metadata": {
        "id": "H1kCOOilpx0m"
      }
    },
    {
      "cell_type": "markdown",
      "source": [
        "*Exercise 3 - Create a markdown cell for an introduction*\n",
        "\n",
        "In this notebook, Data Science Tools and Ecosystem are summarized."
      ],
      "metadata": {
        "id": "jXRBb_YxrV9R"
      }
    },
    {
      "cell_type": "markdown",
      "source": [
        "*Exercise 10 - Insert a markdown cell to list Objectives*\n",
        "\n",
        "***Objectives:***\n",
        "* Create Markdone cell\n",
        "* Create Tables in Markdown\n",
        "* Create ordered and unordered lists in Markdown\n",
        "* introducing arithmetic expression examples\n"
      ],
      "metadata": {
        "id": "XBg88tTg-TF4"
      }
    },
    {
      "cell_type": "markdown",
      "source": [
        "*Exercise 4 - Create a markdown cell to list data science languages*\n",
        "\n",
        "Some of the popular languages that Data Scientists use are:\n",
        "\n",
        " 1. Python\n",
        " 2. R\n",
        " 3. SQL\n",
        " 4. Scala\n",
        " 5. Java\n",
        " 6. Julia"
      ],
      "metadata": {
        "id": "H3TjOirys0qL"
      }
    },
    {
      "cell_type": "markdown",
      "source": [
        "*Exercise 5 - Create a markdown cell to list data science libraries*\n",
        "\n",
        "Some of the commonly used libraries used by Data Scientists include:\n",
        "\n",
        " 1. Pandas (Python)\n",
        " 2. Numpy (Python)\n",
        " 3. Matplotlib (Python)\n",
        " 4. dplyr (R)\n",
        " 5. ggplot (R)\n",
        " 6. scikit-learn (Python)"
      ],
      "metadata": {
        "id": "ogxhufRzuN9M"
      }
    },
    {
      "cell_type": "markdown",
      "source": [
        "*Exercise 6 - Create a markdown cell with a table of Data Science tools*\n",
        "\n",
        "# Data Science Tools\n",
        "\n",
        "| Data Science Tools |\n",
        "| ------------- |\n",
        "| Jupyter Lab |\n",
        "| R studio  |\n",
        "| Apache Zeppelin  |"
      ],
      "metadata": {
        "id": "X2oVcdawz34D"
      }
    },
    {
      "cell_type": "markdown",
      "source": [
        "*Exercise 7 - Create a markdown cell introducing arithmetic expression examples*\n",
        "\n",
        "### Below are a few examples of evaluating arithmetic expressions in Python.\n",
        "\n",
        "a = 2\\\n",
        "b = 3\\\n",
        "c = a + b\\\n",
        "z = a * 2\\\n",
        "d = c /10\n"
      ],
      "metadata": {
        "id": "xNUanoNE5_15"
      }
    },
    {
      "cell_type": "markdown",
      "source": [
        "*Exercise 8 - Create a code cell to multiply and add numbers*"
      ],
      "metadata": {
        "id": "B_fdfjBD74Ki"
      }
    },
    {
      "cell_type": "code",
      "source": [
        "#This a simple arithmetic expression to mutiply then add integers\n",
        "(3*4)+5"
      ],
      "metadata": {
        "colab": {
          "base_uri": "https://localhost:8080/"
        },
        "id": "wMCicHX47jC_",
        "outputId": "0cbe4466-5094-4b55-cbb8-3509dcf83ef9"
      },
      "execution_count": null,
      "outputs": [
        {
          "output_type": "execute_result",
          "data": {
            "text/plain": [
              "17"
            ]
          },
          "metadata": {},
          "execution_count": 4
        }
      ]
    },
    {
      "cell_type": "markdown",
      "source": [
        "*Exercise 9 - Create a code cell to convert minutes to hours*"
      ],
      "metadata": {
        "id": "XDCvgGs58WRJ"
      }
    },
    {
      "cell_type": "code",
      "source": [
        "#This will convert 200 minutes to hours by diving by 60\n",
        "\n",
        "minutes = 200\n",
        "hr_mi = 60\n",
        "hour = minutes / hr_mi\n",
        "print(minutes,'Min is',hour,'Hours')"
      ],
      "metadata": {
        "colab": {
          "base_uri": "https://localhost:8080/"
        },
        "id": "EBCJQYA28aZ5",
        "outputId": "5efad9fe-9816-43c2-92e6-83a7250daec2"
      },
      "execution_count": null,
      "outputs": [
        {
          "output_type": "stream",
          "name": "stdout",
          "text": [
            "200 Min is 3.3333333333333335 Hours\n"
          ]
        }
      ]
    },
    {
      "cell_type": "markdown",
      "source": [
        "*Exercise 11 - Create a markdown cell to indicate the Author's name*"
      ],
      "metadata": {
        "id": "dlhOU3CWCJkl"
      }
    },
    {
      "cell_type": "markdown",
      "source": [
        "## Author\n",
        "Mohammad Davtalab"
      ],
      "metadata": {
        "id": "-Yt0i1mtBmOw"
      }
    },
    {
      "cell_type": "markdown",
      "source": [],
      "metadata": {
        "id": "zCJ7__VoCDvb"
      }
    }
  ]
}